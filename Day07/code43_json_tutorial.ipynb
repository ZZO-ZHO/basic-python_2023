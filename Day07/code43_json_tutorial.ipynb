{
 "cells": [
  {
   "attachments": {},
   "cell_type": "markdown",
   "metadata": {},
   "source": [
    "# JSON 파일 읽고 쓰기\n",
    "\n",
    "## json 읽기\n",
    "모듈불러오기\n",
    "\n",
    "```python\n",
    "import json\n"
   ]
  },
  {
   "cell_type": "code",
   "execution_count": 26,
   "metadata": {},
   "outputs": [
    {
     "name": "stdout",
     "output_type": "stream",
     "text": [
      "{\"ionic\": {\"price\": \"2\\ucc9c\\ub9cc\\uc6d0\", \"year\": \"2022\"}, \"genesis\": {\"price\": \"8\\ucc9c\\ub9cc\\uc6d0\", \"year\": \"2021\"}, \"bmw\": {\"price\": \"1\\uc5b55\\ucc9c\\ub9cc\\uc6d0\", \"year\": \"2019\"}}\n"
     ]
    }
   ],
   "source": [
    "import json\n",
    "\n",
    "file = open('./test.json', 'r', encoding='utf-8')\n",
    "jsondata = json.load(file)\n",
    "print(json.dumps(jsondata))\n",
    "\n",
    "file.close() # 파일 꼭 닫아주기"
   ]
  },
  {
   "cell_type": "code",
   "execution_count": 27,
   "metadata": {},
   "outputs": [
    {
     "name": "stdout",
     "output_type": "stream",
     "text": [
      "{\n",
      "\t\"ionic\": {\n",
      "\t\t\"price\": \"2천만원\",\n",
      "\t\t\"year\": \"2022\"\n",
      "\t},\n",
      "\t\"genesis\": {\n",
      "\t\t\"price\": \"8천만원\",\n",
      "\t\t\"year\": \"2021\"\n",
      "\t},\n",
      "\t\"bmw\": {\n",
      "\t\t\"price\": \"1억5천만원\",\n",
      "\t\t\"year\": \"2019\"\n",
      "\t}\n",
      "}\n"
     ]
    }
   ],
   "source": [
    "with open('./test.json', 'r', encoding='utf-8') as f:\n",
    "    jdata = json.load(f)\n",
    "# 한글 인코딩 문제가 있으면 ensure_ascii=False 추가\n",
    "print(json.dumps(jdata, indent='\\t',ensure_ascii=False)) # 파일 닫을필요 X     # print(json.dumps(json_data, indent=\"\\t\") ) -> 들여쓰기"
   ]
  },
  {
   "attachments": {},
   "cell_type": "markdown",
   "metadata": {},
   "source": [
    "# json 파일 값 읽기"
   ]
  },
  {
   "cell_type": "code",
   "execution_count": 28,
   "metadata": {},
   "outputs": [
    {
     "data": {
      "text/plain": [
       "'8천만원'"
      ]
     },
     "execution_count": 28,
     "metadata": {},
     "output_type": "execute_result"
    }
   ],
   "source": [
    "jdata['genesis']  # 키입력시 그에 해당하는 값만 출력\n",
    "jdata['genesis']['price']"
   ]
  },
  {
   "attachments": {},
   "cell_type": "markdown",
   "metadata": {},
   "source": [
    "# JSON 값수정"
   ]
  },
  {
   "cell_type": "code",
   "execution_count": 29,
   "metadata": {},
   "outputs": [
    {
     "name": "stdout",
     "output_type": "stream",
     "text": [
      "{'ionic': {'price': '2천만원', 'year': '2022'}, 'genesis': {'price': 95000000, 'year': '2021'}, 'bmw': {'price': '1억5천만원', 'year': '2019'}}\n"
     ]
    }
   ],
   "source": [
    "jdata['genesis']['price'] = \"9천500만원\"\n",
    "\n",
    "print(jdata)"
   ]
  },
  {
   "attachments": {},
   "cell_type": "markdown",
   "metadata": {},
   "source": [
    "# JSON 파일 저장"
   ]
  },
  {
   "cell_type": "code",
   "execution_count": 31,
   "metadata": {},
   "outputs": [],
   "source": [
    "with open('./test2.json', 'w', encoding='utf-8') as file:\n",
    "    json.dump(jdata,file,indent='\\t',ensure_ascii=False)"
   ]
  },
  {
   "attachments": {},
   "cell_type": "markdown",
   "metadata": {},
   "source": [
    "### json 파일 쓰기"
   ]
  },
  {
   "cell_type": "code",
   "execution_count": 34,
   "metadata": {},
   "outputs": [
    {
     "name": "stdout",
     "output_type": "stream",
     "text": [
      "{\n",
      "\t\"audi\": {\n",
      "\t\t\"price\": 300000000,\n",
      "\t\t\"year\": \"2020\"\n",
      "\t},\n",
      "\t\"porsche\": {\n",
      "\t\t\"price\": 1500000000,\n",
      "\t\t\"year\": \"2015\"\n",
      "\t}\n",
      "}\n"
     ]
    }
   ],
   "source": [
    "import json\n",
    "supercars = dict() #딕셔너리 생성\n",
    "\n",
    "audi = dict()\n",
    "audi['price'] = 300000000\n",
    "audi['year'] = '2020'\n",
    "supercars['audi'] = audi\n",
    "\n",
    "porsche = dict()\n",
    "porsche['price'] = 1500000000\n",
    "porsche['year'] = '2015'\n",
    "supercars['porsche'] = porsche\n",
    "\n",
    "# json vkdlffh wjwkd\n",
    "with open('./supercar.json', 'w', encoding='utf-8') as file:\n",
    "    json.dump(supercars,file, indent='\\t',ensure_ascii=True)\n",
    "\n",
    "# json 파일 로드\n",
    "with open('./supercar.json', 'r', encoding='utf-8') as file:\n",
    "    json_data = json.load(file)\n",
    "\n",
    "print(json.dumps(json_data, indent='\\t'))"
   ]
  }
 ],
 "metadata": {
  "kernelspec": {
   "display_name": "venv",
   "language": "python",
   "name": "python3"
  },
  "language_info": {
   "codemirror_mode": {
    "name": "ipython",
    "version": 3
   },
   "file_extension": ".py",
   "mimetype": "text/x-python",
   "name": "python",
   "nbconvert_exporter": "python",
   "pygments_lexer": "ipython3",
   "version": "3.11.1"
  },
  "orig_nbformat": 4,
  "vscode": {
   "interpreter": {
    "hash": "3449d215bc7bc027067a5e9f550bd193cd3396d502a667b5131a7437e50cdded"
   }
  }
 },
 "nbformat": 4,
 "nbformat_minor": 2
}
