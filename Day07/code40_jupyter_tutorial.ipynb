{
 "cells": [
  {
   "attachments": {},
   "cell_type": "markdown",
   "metadata": {},
   "source": [
    "# 주피터 노트북 사용법 학습\n",
    "\n",
    "## 마크다운, 파이선 셀 추가 : 단축키\n",
    "- 현재 셀 앞에 셀 추가 : a\n",
    "- 현재 셀 뒤에 셀 추가 : b\n",
    "- 현재 셀을 마크다운으로 변경 : 포커스만 있는 상태 m\n",
    "- 현재 셀을 코드 셀로 변경 : y"
   ]
  },
  {
   "cell_type": "code",
   "execution_count": 2,
   "metadata": {},
   "outputs": [],
   "source": [
    "# 최초 작성된 Python 셀"
   ]
  },
  {
   "attachments": {},
   "cell_type": "markdown",
   "metadata": {},
   "source": [
    "## 파이선 셀 실행\n",
    "- 셀 실행 : Ctrl + Enter\n",
    "- 셀 실행 + 셀 이동(생성) : Shift + Enter\n",
    "- 셀 실행 + 아래 셀 생성 : Alt + Enter\n",
    "- 주석 처리 : Ctrl + /"
   ]
  },
  {
   "cell_type": "code",
   "execution_count": 7,
   "metadata": {},
   "outputs": [
    {
     "name": "stdout",
     "output_type": "stream",
     "text": [
      "Hello, Jupyter!!\n"
     ]
    }
   ],
   "source": [
    "print('Hello, Jupyter!!')\n",
    "# print('Hello, Jupyter!!')"
   ]
  },
  {
   "attachments": {},
   "cell_type": "markdown",
   "metadata": {},
   "source": [
    "## 디버깅\n"
   ]
  },
  {
   "cell_type": "code",
   "execution_count": 19,
   "metadata": {},
   "outputs": [
    {
     "name": "stdout",
     "output_type": "stream",
     "text": [
      "1\n",
      "2\n",
      "True\n",
      "Hello\n",
      "3.1415926585\n"
     ]
    },
    {
     "data": {
      "text/plain": [
       "[1, '2', True, 'Hello', 3.1415926585]"
      ]
     },
     "execution_count": 19,
     "metadata": {},
     "output_type": "execute_result"
    }
   ],
   "source": [
    "arr = [1, '2', True, 'Hello', 3.1415926585]\n",
    "\n",
    "for i in arr:\n",
    "    print(i)\n",
    "arr"
   ]
  },
  {
   "cell_type": "markdown",
   "metadata": {},
   "source": [
    "# 함수디버깅"
   ]
  },
  {
   "cell_type": "code",
   "execution_count": 15,
   "metadata": {},
   "outputs": [
    {
     "name": "stdout",
     "output_type": "stream",
     "text": [
      "더하기\n",
      "14\n"
     ]
    }
   ],
   "source": [
    "def plus(x,y):\n",
    "    val = x + y\n",
    "    return val\n",
    "\n",
    "print('더하기')\n",
    "print(plus(10,4))"
   ]
  },
  {
   "cell_type": "code",
   "execution_count": 18,
   "metadata": {},
   "outputs": [
    {
     "name": "stdout",
     "output_type": "stream",
     "text": [
      "나누기\n",
      "10.0\n"
     ]
    }
   ],
   "source": [
    "def div(x,y):\n",
    "    val = x / y\n",
    "    return val\n",
    "\n",
    "print('나누기')\n",
    "print(div(10,1))"
   ]
  },
  {
   "cell_type": "markdown",
   "metadata": {},
   "source": [
    "## list(array) for문 예제"
   ]
  },
  {
   "cell_type": "code",
   "execution_count": 22,
   "metadata": {},
   "outputs": [
    {
     "data": {
      "text/plain": [
       "<enumerate at 0x185a1ae7f10>"
      ]
     },
     "execution_count": 22,
     "metadata": {},
     "output_type": "execute_result"
    }
   ],
   "source": [
    "enumerate(arr)"
   ]
  },
  {
   "cell_type": "code",
   "execution_count": 23,
   "metadata": {},
   "outputs": [
    {
     "name": "stdout",
     "output_type": "stream",
     "text": [
      "0 = 1\n",
      "1 = 2\n",
      "2 = True\n",
      "3 = Hello\n",
      "4 = 3.1415926585\n"
     ]
    }
   ],
   "source": [
    "for i, item in enumerate(arr):\n",
    "    print(f'{i} = {item}')"
   ]
  }
 ],
 "metadata": {
  "kernelspec": {
   "display_name": "venv",
   "language": "python",
   "name": "python3"
  },
  "language_info": {
   "codemirror_mode": {
    "name": "ipython",
    "version": 3
   },
   "file_extension": ".py",
   "mimetype": "text/x-python",
   "name": "python",
   "nbconvert_exporter": "python",
   "pygments_lexer": "ipython3",
   "version": "3.11.1"
  },
  "orig_nbformat": 4,
  "vscode": {
   "interpreter": {
    "hash": "3449d215bc7bc027067a5e9f550bd193cd3396d502a667b5131a7437e50cdded"
   }
  }
 },
 "nbformat": 4,
 "nbformat_minor": 2
}
